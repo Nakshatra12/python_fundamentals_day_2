{
 "cells": [
  {
   "cell_type": "code",
   "execution_count": null,
   "id": "00b4cf1a",
   "metadata": {},
   "outputs": [],
   "source": [
    "Understanding the variables in python:"
   ]
  },
  {
   "cell_type": "code",
   "execution_count": null,
   "id": "05d192e1",
   "metadata": {},
   "outputs": [],
   "source": []
  },
  {
   "cell_type": "code",
   "execution_count": 1,
   "id": "2488f49b",
   "metadata": {},
   "outputs": [],
   "source": [
    "x=2\n",
    "y=3"
   ]
  },
  {
   "cell_type": "code",
   "execution_count": 2,
   "id": "74393306",
   "metadata": {},
   "outputs": [
    {
     "name": "stdout",
     "output_type": "stream",
     "text": [
      "5\n"
     ]
    }
   ],
   "source": [
    "z=x+y\n",
    "print(z)"
   ]
  },
  {
   "cell_type": "code",
   "execution_count": null,
   "id": "a7c0a4e4",
   "metadata": {},
   "outputs": [],
   "source": []
  },
  {
   "cell_type": "code",
   "execution_count": null,
   "id": "3e003594",
   "metadata": {},
   "outputs": [],
   "source": [
    "Rules for declaring the variables in python:"
   ]
  },
  {
   "cell_type": "code",
   "execution_count": null,
   "id": "b1546885",
   "metadata": {},
   "outputs": [],
   "source": []
  },
  {
   "cell_type": "code",
   "execution_count": null,
   "id": "c267e478",
   "metadata": {},
   "outputs": [],
   "source": [
    "Rule no 1 : A variable name should not contain any namespaces in it."
   ]
  },
  {
   "cell_type": "code",
   "execution_count": 3,
   "id": "74779dcf",
   "metadata": {},
   "outputs": [
    {
     "ename": "SyntaxError",
     "evalue": "invalid syntax (<ipython-input-3-049e9e79ab25>, line 1)",
     "output_type": "error",
     "traceback": [
      "\u001b[0;36m  File \u001b[0;32m\"<ipython-input-3-049e9e79ab25>\"\u001b[0;36m, line \u001b[0;32m1\u001b[0m\n\u001b[0;31m    first name = 'Nakshatra'\u001b[0m\n\u001b[0m             ^\u001b[0m\n\u001b[0;31mSyntaxError\u001b[0m\u001b[0;31m:\u001b[0m invalid syntax\n"
     ]
    }
   ],
   "source": [
    "first name = 'Nakshatra'\n",
    "print(first name)"
   ]
  },
  {
   "cell_type": "code",
   "execution_count": 4,
   "id": "0b512155",
   "metadata": {},
   "outputs": [
    {
     "name": "stdout",
     "output_type": "stream",
     "text": [
      "Nakshatra\n"
     ]
    }
   ],
   "source": [
    "firstname = 'Nakshatra'\n",
    "print(firstname)"
   ]
  },
  {
   "cell_type": "code",
   "execution_count": null,
   "id": "a876f708",
   "metadata": {},
   "outputs": [],
   "source": []
  },
  {
   "cell_type": "code",
   "execution_count": 5,
   "id": "4dfbbcb4",
   "metadata": {},
   "outputs": [
    {
     "name": "stdout",
     "output_type": "stream",
     "text": [
      "Nakshatra\n"
     ]
    }
   ],
   "source": [
    "first_name = 'Nakshatra'\n",
    "print(first_name)"
   ]
  },
  {
   "cell_type": "code",
   "execution_count": null,
   "id": "45225e86",
   "metadata": {},
   "outputs": [],
   "source": []
  },
  {
   "cell_type": "code",
   "execution_count": null,
   "id": "effcc9ab",
   "metadata": {},
   "outputs": [],
   "source": [
    "Rule no 2 : A variable name should not start with a number."
   ]
  },
  {
   "cell_type": "code",
   "execution_count": 6,
   "id": "9aeec17d",
   "metadata": {},
   "outputs": [
    {
     "ename": "SyntaxError",
     "evalue": "invalid syntax (<ipython-input-6-50a8378cb284>, line 1)",
     "output_type": "error",
     "traceback": [
      "\u001b[0;36m  File \u001b[0;32m\"<ipython-input-6-50a8378cb284>\"\u001b[0;36m, line \u001b[0;32m1\u001b[0m\n\u001b[0;31m    1name = 'Nakshatra'\u001b[0m\n\u001b[0m        ^\u001b[0m\n\u001b[0;31mSyntaxError\u001b[0m\u001b[0;31m:\u001b[0m invalid syntax\n"
     ]
    }
   ],
   "source": [
    "1name = 'Nakshatra'\n",
    "print(1name)"
   ]
  },
  {
   "cell_type": "code",
   "execution_count": 7,
   "id": "afe2bf9a",
   "metadata": {},
   "outputs": [
    {
     "name": "stdout",
     "output_type": "stream",
     "text": [
      "Nakshatra\n"
     ]
    }
   ],
   "source": [
    "name1 = 'Nakshatra'\n",
    "print(name1)"
   ]
  },
  {
   "cell_type": "code",
   "execution_count": 9,
   "id": "b14f2a7b",
   "metadata": {},
   "outputs": [
    {
     "ename": "SyntaxError",
     "evalue": "invalid syntax (<ipython-input-9-01b64e0319c7>, line 1)",
     "output_type": "error",
     "traceback": [
      "\u001b[0;36m  File \u001b[0;32m\"<ipython-input-9-01b64e0319c7>\"\u001b[0;36m, line \u001b[0;32m1\u001b[0m\n\u001b[0;31m    Rule no 3 = A variable name should not contain any special characters\u001b[0m\n\u001b[0m          ^\u001b[0m\n\u001b[0;31mSyntaxError\u001b[0m\u001b[0;31m:\u001b[0m invalid syntax\n"
     ]
    }
   ],
   "source": [
    "Rule no 3 = A variable name should not contain any special characters \n",
    "\n",
    "name@ = 'Nakshatra'\n",
    "print(name@)"
   ]
  },
  {
   "cell_type": "code",
   "execution_count": null,
   "id": "347220d9",
   "metadata": {},
   "outputs": [],
   "source": []
  },
  {
   "cell_type": "code",
   "execution_count": null,
   "id": "b123096a",
   "metadata": {},
   "outputs": [],
   "source": [
    "Introduction to datatypes in python :\n",
    "    \n",
    "    1. string -----> str\n",
    "    2. Numbers -----> integers(int) and floats (float)(decimals)\n",
    "    3. list ----> list\n",
    "    4. Dictionary ----> dict"
   ]
  },
  {
   "cell_type": "code",
   "execution_count": null,
   "id": "4a04b533",
   "metadata": {},
   "outputs": [],
   "source": []
  },
  {
   "cell_type": "code",
   "execution_count": null,
   "id": "f72d4624",
   "metadata": {},
   "outputs": [],
   "source": [
    "Note : Python is a case sensitive language"
   ]
  },
  {
   "cell_type": "code",
   "execution_count": null,
   "id": "f24da742",
   "metadata": {},
   "outputs": [],
   "source": []
  },
  {
   "cell_type": "code",
   "execution_count": null,
   "id": "edf1b397",
   "metadata": {},
   "outputs": [],
   "source": [
    "Classification of datatypes : \n",
    "    two diff categeories :\n",
    "        1. mutable datatype ====> which we can edit or alter ====> these are flexible in nature\n",
    "        2. immutable datatype ====> which we cannot edit or alter ====> there are fixed in nature "
   ]
  },
  {
   "cell_type": "code",
   "execution_count": null,
   "id": "b0c36657",
   "metadata": {},
   "outputs": [],
   "source": []
  },
  {
   "cell_type": "code",
   "execution_count": null,
   "id": "cd89bc1b",
   "metadata": {},
   "outputs": [],
   "source": [
    "Introduction to string datatype : \n",
    "defination : A string is a series of characters declared in quotes\n",
    "classification : it is classified as immutable datatype\n",
    "how do u declare a string -----? 3 possible approches:\n",
    "    1. single quote\n",
    "    2. double quote\n",
    "    3. trible quotes"
   ]
  },
  {
   "cell_type": "code",
   "execution_count": null,
   "id": "71038ed4",
   "metadata": {},
   "outputs": [],
   "source": []
  },
  {
   "cell_type": "code",
   "execution_count": 3,
   "id": "8b8bde31",
   "metadata": {},
   "outputs": [
    {
     "name": "stdout",
     "output_type": "stream",
     "text": [
      "Nakshatra\n"
     ]
    }
   ],
   "source": [
    "name = 'Nakshatra'      # single quote\n",
    "print(name)"
   ]
  },
  {
   "cell_type": "code",
   "execution_count": 4,
   "id": "e9927b7d",
   "metadata": {},
   "outputs": [
    {
     "name": "stdout",
     "output_type": "stream",
     "text": [
      "Nakshatra\n"
     ]
    }
   ],
   "source": [
    "name2 = \"Nakshatra\"     # double quote\n",
    "print(name2)"
   ]
  },
  {
   "cell_type": "code",
   "execution_count": 5,
   "id": "5b1fed6a",
   "metadata": {},
   "outputs": [
    {
     "name": "stdout",
     "output_type": "stream",
     "text": [
      "Nakshatra\n"
     ]
    }
   ],
   "source": [
    "name3 = \"\"\"Nakshatra\"\"\"  # triple quotes\n",
    "print(name3)"
   ]
  },
  {
   "cell_type": "code",
   "execution_count": null,
   "id": "371defc5",
   "metadata": {},
   "outputs": [],
   "source": []
  },
  {
   "cell_type": "code",
   "execution_count": null,
   "id": "b6fd5ef5",
   "metadata": {},
   "outputs": [],
   "source": [
    "# is used for commenting the code.... it wont impact"
   ]
  },
  {
   "cell_type": "code",
   "execution_count": 6,
   "id": "07f73423",
   "metadata": {},
   "outputs": [
    {
     "ename": "SyntaxError",
     "evalue": "invalid syntax (<ipython-input-6-5858543cac8a>, line 1)",
     "output_type": "error",
     "traceback": [
      "\u001b[0;36m  File \u001b[0;32m\"<ipython-input-6-5858543cac8a>\"\u001b[0;36m, line \u001b[0;32m1\u001b[0m\n\u001b[0;31m    is used for commenting the code.... it wont impact\u001b[0m\n\u001b[0m     ^\u001b[0m\n\u001b[0;31mSyntaxError\u001b[0m\u001b[0;31m:\u001b[0m invalid syntax\n"
     ]
    }
   ],
   "source": [
    "is used for commenting the code.... it wont impact"
   ]
  },
  {
   "cell_type": "code",
   "execution_count": 7,
   "id": "05ca3099",
   "metadata": {},
   "outputs": [],
   "source": [
    "# is used for commenting the code.... it wont impact"
   ]
  },
  {
   "cell_type": "code",
   "execution_count": null,
   "id": "826cac2b",
   "metadata": {},
   "outputs": [],
   "source": []
  },
  {
   "cell_type": "code",
   "execution_count": null,
   "id": "84659b11",
   "metadata": {},
   "outputs": [],
   "source": [
    "Introduction to string methods : "
   ]
  },
  {
   "cell_type": "code",
   "execution_count": null,
   "id": "cfa11d1b",
   "metadata": {},
   "outputs": [],
   "source": [
    "type ----> it is used to validate the datatypes that we are using "
   ]
  },
  {
   "cell_type": "code",
   "execution_count": 8,
   "id": "254bca52",
   "metadata": {},
   "outputs": [
    {
     "data": {
      "text/plain": [
       "str"
      ]
     },
     "execution_count": 8,
     "metadata": {},
     "output_type": "execute_result"
    }
   ],
   "source": [
    "type(name)"
   ]
  },
  {
   "cell_type": "code",
   "execution_count": 9,
   "id": "e0003846",
   "metadata": {},
   "outputs": [
    {
     "data": {
      "text/plain": [
       "str"
      ]
     },
     "execution_count": 9,
     "metadata": {},
     "output_type": "execute_result"
    }
   ],
   "source": [
    "type(name2)"
   ]
  },
  {
   "cell_type": "code",
   "execution_count": 10,
   "id": "639f0322",
   "metadata": {},
   "outputs": [
    {
     "data": {
      "text/plain": [
       "str"
      ]
     },
     "execution_count": 10,
     "metadata": {},
     "output_type": "execute_result"
    }
   ],
   "source": [
    "type(name3)"
   ]
  },
  {
   "cell_type": "code",
   "execution_count": null,
   "id": "585385ca",
   "metadata": {},
   "outputs": [],
   "source": []
  },
  {
   "cell_type": "code",
   "execution_count": null,
   "id": "b2b5c308",
   "metadata": {},
   "outputs": [],
   "source": []
  },
  {
   "cell_type": "code",
   "execution_count": null,
   "id": "ab1bf0bb",
   "metadata": {},
   "outputs": [],
   "source": []
  }
 ],
 "metadata": {
  "kernelspec": {
   "display_name": "Python 3",
   "language": "python",
   "name": "python3"
  },
  "language_info": {
   "codemirror_mode": {
    "name": "ipython",
    "version": 3
   },
   "file_extension": ".py",
   "mimetype": "text/x-python",
   "name": "python",
   "nbconvert_exporter": "python",
   "pygments_lexer": "ipython3",
   "version": "3.6.13"
  }
 },
 "nbformat": 4,
 "nbformat_minor": 5
}
